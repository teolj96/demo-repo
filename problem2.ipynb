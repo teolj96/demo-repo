{
 "cells": [
  {
   "cell_type": "code",
   "execution_count": 2,
   "id": "34c86b30",
   "metadata": {},
   "outputs": [],
   "source": [
    "import numpy as np\n",
    "import pandas as pd"
   ]
  },
  {
   "cell_type": "code",
   "execution_count": 14,
   "id": "58e0b93a",
   "metadata": {},
   "outputs": [],
   "source": [
    "df = pd.read_feather('problem-2.ftr')"
   ]
  },
  {
   "cell_type": "code",
   "execution_count": 15,
   "id": "c3c44db5",
   "metadata": {},
   "outputs": [],
   "source": [
    "df.Aangebodensinds = df.Aangebodensinds.replace('Vandaag','Today')"
   ]
  },
  {
   "cell_type": "code",
   "execution_count": 16,
   "id": "3f60a6d3",
   "metadata": {},
   "outputs": [],
   "source": [
    "for i in range(len(df.Aangebodensinds)):\n",
    "    if 'weken' in df.Aangebodensinds[i]:\n",
    "        df.Aangebodensinds[i] = df.Aangebodensinds[i].replace('weken','weeks')\n",
    "    elif 'maanden' in df.Aangebodensinds[i]:\n",
    "        df.Aangebodensinds[i] = df.Aangebodensinds[i].replace('maanden','months')\n",
    "    else:\n",
    "        pass"
   ]
  },
  {
   "cell_type": "code",
   "execution_count": 17,
   "id": "8b00814d",
   "metadata": {},
   "outputs": [],
   "source": [
    "for i in range(len(df.Aangebodensinds)):\n",
    "    if 'weeks' in df.Aangebodensinds[i]:\n",
    "        pass\n",
    "    elif 'months' in df.Aangebodensinds[i]:\n",
    "        pass\n",
    "    elif 'Today' in df.Aangebodensinds[i]:\n",
    "        pass\n",
    "    else:\n",
    "        df.Aangebodensinds[i] = pd.to_datetime(df.Aangebodensinds[i],errors='coerce')"
   ]
  },
  {
   "cell_type": "code",
   "execution_count": 18,
   "id": "df486e65",
   "metadata": {},
   "outputs": [],
   "source": [
    "new_df = df.copy()"
   ]
  },
  {
   "cell_type": "code",
   "execution_count": 19,
   "id": "defe98e0",
   "metadata": {},
   "outputs": [],
   "source": [
    "from datetime import datetime, timedelta"
   ]
  },
  {
   "cell_type": "code",
   "execution_count": 23,
   "id": "d8975642",
   "metadata": {},
   "outputs": [
    {
     "ename": "OutOfBoundsDatetime",
     "evalue": "Out of bounds nanosecond timestamp -12640757498818622000",
     "output_type": "error",
     "traceback": [
      "\u001b[1;31m---------------------------------------------------------------------------\u001b[0m",
      "\u001b[1;31mOverflowError\u001b[0m                             Traceback (most recent call last)",
      "\u001b[1;32mpandas\\_libs\\tslibs\\conversion.pyx\u001b[0m in \u001b[0;36mpandas._libs.tslibs.conversion.convert_to_tsobject\u001b[1;34m()\u001b[0m\n",
      "\u001b[1;31mOverflowError\u001b[0m: int too big to convert",
      "\nDuring handling of the above exception, another exception occurred:\n",
      "\u001b[1;31mOutOfBoundsDatetime\u001b[0m                       Traceback (most recent call last)",
      "\u001b[1;32m<ipython-input-23-633507317b95>\u001b[0m in \u001b[0;36m<module>\u001b[1;34m\u001b[0m\n\u001b[0;32m      4\u001b[0m             \u001b[0mdays\u001b[0m \u001b[1;33m=\u001b[0m \u001b[1;36m0\u001b[0m\u001b[1;33m\u001b[0m\u001b[1;33m\u001b[0m\u001b[0m\n\u001b[0;32m      5\u001b[0m             \u001b[1;32mif\u001b[0m \u001b[0mnew_df\u001b[0m\u001b[1;33m.\u001b[0m\u001b[0mAangebodensinds\u001b[0m\u001b[1;33m[\u001b[0m\u001b[0mi\u001b[0m\u001b[1;33m]\u001b[0m \u001b[1;33m==\u001b[0m \u001b[1;34m'Today'\u001b[0m\u001b[1;33m:\u001b[0m\u001b[1;33m\u001b[0m\u001b[1;33m\u001b[0m\u001b[0m\n\u001b[1;32m----> 6\u001b[1;33m                 \u001b[0mnew_df\u001b[0m\u001b[1;33m.\u001b[0m\u001b[0mAangebodensinds\u001b[0m\u001b[1;33m[\u001b[0m\u001b[0mi\u001b[0m\u001b[1;33m]\u001b[0m \u001b[1;33m=\u001b[0m \u001b[0mpd\u001b[0m\u001b[1;33m.\u001b[0m\u001b[0mto_datetime\u001b[0m\u001b[1;33m(\u001b[0m\u001b[0mnew_df\u001b[0m\u001b[1;33m.\u001b[0m\u001b[0mAangebodensinds\u001b[0m\u001b[1;33m[\u001b[0m\u001b[0mi\u001b[0m\u001b[1;33m-\u001b[0m\u001b[1;36m1\u001b[0m\u001b[1;33m]\u001b[0m \u001b[1;33m+\u001b[0m \u001b[1;33m(\u001b[0m\u001b[0mnew_df\u001b[0m\u001b[1;33m.\u001b[0m\u001b[0mAangebodensinds\u001b[0m\u001b[1;33m[\u001b[0m\u001b[0mi\u001b[0m\u001b[1;33m-\u001b[0m\u001b[1;36m1\u001b[0m\u001b[1;33m]\u001b[0m \u001b[1;33m-\u001b[0m \u001b[0mdatetime\u001b[0m\u001b[1;33m.\u001b[0m\u001b[0mtoday\u001b[0m\u001b[1;33m(\u001b[0m\u001b[1;33m)\u001b[0m\u001b[1;33m)\u001b[0m\u001b[1;33m,\u001b[0m\u001b[0merrors\u001b[0m\u001b[1;33m=\u001b[0m\u001b[1;34m'coerce'\u001b[0m\u001b[1;33m)\u001b[0m\u001b[1;33m\u001b[0m\u001b[1;33m\u001b[0m\u001b[0m\n\u001b[0m\u001b[0;32m      7\u001b[0m \u001b[1;33m\u001b[0m\u001b[0m\n\u001b[0;32m      8\u001b[0m             \u001b[1;32melif\u001b[0m \u001b[0mnew_df\u001b[0m\u001b[1;33m.\u001b[0m\u001b[0mAangebodensinds\u001b[0m\u001b[1;33m[\u001b[0m\u001b[0mi\u001b[0m\u001b[1;33m]\u001b[0m\u001b[1;33m.\u001b[0m\u001b[0msplit\u001b[0m\u001b[1;33m(\u001b[0m\u001b[1;34m' '\u001b[0m\u001b[1;33m)\u001b[0m\u001b[1;33m[\u001b[0m\u001b[1;36m1\u001b[0m\u001b[1;33m]\u001b[0m \u001b[1;33m==\u001b[0m \u001b[1;34m'weeks'\u001b[0m\u001b[1;33m:\u001b[0m\u001b[1;33m\u001b[0m\u001b[1;33m\u001b[0m\u001b[0m\n",
      "\u001b[1;32mpandas\\_libs\\tslibs\\timestamps.pyx\u001b[0m in \u001b[0;36mpandas._libs.tslibs.timestamps._Timestamp.__add__\u001b[1;34m()\u001b[0m\n",
      "\u001b[1;32mpandas\\_libs\\tslibs\\timestamps.pyx\u001b[0m in \u001b[0;36mpandas._libs.tslibs.timestamps.Timestamp.__new__\u001b[1;34m()\u001b[0m\n",
      "\u001b[1;32mpandas\\_libs\\tslibs\\conversion.pyx\u001b[0m in \u001b[0;36mpandas._libs.tslibs.conversion.convert_to_tsobject\u001b[1;34m()\u001b[0m\n",
      "\u001b[1;31mOutOfBoundsDatetime\u001b[0m: Out of bounds nanosecond timestamp -12640757498818622000"
     ]
    }
   ],
   "source": [
    "    for i in range(len(new_df.Aangebodensinds)):\n",
    "        try:\n",
    "            if type(new_df.Aangebodensinds[i]) == str:\n",
    "                days = 0\n",
    "                if new_df.Aangebodensinds[i] == 'Today':\n",
    "                    new_df.Aangebodensinds[i] = pd.to_datetime(new_df.Aangebodensinds[i-1] + (new_df.Aangebodensinds[i-1] - datetime.today()),errors='coerce')\n",
    "                    \n",
    "                elif new_df.Aangebodensinds[i].split(' ')[1] == 'weeks':\n",
    "                    multi = int(new_df.Aangebodensinds[i].split(' ')[0])\n",
    "                    days = 7\n",
    "                    new_df.Aangebodensinds[i] = pd.to_datetime(new_df.Aangebodensinds[i-1] - timedelta(days=multi*days),error='coerce')\n",
    "                \n",
    "                elif new_df.Aangebodensinds[i] == '6+ months':\n",
    "                    multi = int(new_df.Aangebodensinds[i].split('+ ')[0])\n",
    "                    days = 30\n",
    "                    new_df.Aangebodensinds[i] = pd.to_datetime(new_df.Aangebodensinds[i-1] - timedelta(days=multi*days),errors='coerce')\n",
    "                    \n",
    "                elif new_df.Aangebodensinds[i].split(' ')[1] == 'months':\n",
    "                    multi = int(new_df.Aangebodensinds[i].split(' ')[0])\n",
    "                    days = 30\n",
    "                    new_df.Aangebodensinds[i] = pd.to_datetime(new_df.Aangebodensinds[i-1] - timedelta(days=multi*days),error='coerce')\n",
    "            else:\n",
    "                pass\n",
    "        \n",
    "        except IndexError:\n",
    "            continue"
   ]
  },
  {
   "cell_type": "code",
   "execution_count": null,
   "id": "4518dca6",
   "metadata": {},
   "outputs": [],
   "source": []
  }
 ],
 "metadata": {
  "kernelspec": {
   "display_name": "Python 3",
   "language": "python",
   "name": "python3"
  },
  "language_info": {
   "codemirror_mode": {
    "name": "ipython",
    "version": 3
   },
   "file_extension": ".py",
   "mimetype": "text/x-python",
   "name": "python",
   "nbconvert_exporter": "python",
   "pygments_lexer": "ipython3",
   "version": "3.8.8"
  }
 },
 "nbformat": 4,
 "nbformat_minor": 5
}
